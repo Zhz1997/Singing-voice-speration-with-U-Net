{
 "cells": [
  {
   "cell_type": "code",
   "execution_count": 11,
   "metadata": {},
   "outputs": [],
   "source": [
    "import os\n",
    "import librosa\n",
    "import soundfile as sf\n",
    "from librosa.core import load, stft, istft, magphase\n",
    "from config import *\n",
    "from concurrent.futures import ThreadPoolExecutor\n",
    "from time import time\n",
    "import asyncio\n",
    "import numpy as np\n",
    "from multiprocessing import cpu_count\n",
    "from pydub import AudioSegment"
   ]
  },
  {
   "cell_type": "code",
   "execution_count": 26,
   "metadata": {},
   "outputs": [],
   "source": [
    "dirs = list(os.walk('MedleyDB_V2/'))[0][1]\n",
    "\n",
    "def downsample(input_path, output_path):\n",
    "    wav, _ = librosa.load(input_path, sr=SAMPLE_RATE)\n",
    "    sf.write(output_path, wav, SAMPLE_RATE)\n",
    "#     librosa.output.write_wav(output_path, wav, SAMPLE_RATE, norm=True)\n",
    "    print(f\"Saving {output_path}\")\n"
   ]
  },
  {
   "cell_type": "code",
   "execution_count": 31,
   "metadata": {},
   "outputs": [
    {
     "name": "stdout",
     "output_type": "stream",
     "text": [
      "Saving MedleyDB_V2_resized/BarefootSisters_RedJetta/BarefootSisters_RedJetta_Accompaniment.wav\n",
      "Saving MedleyDB_V2_resized/BarefootSisters_RedJetta/BarefootSisters_RedJetta_MIX.wav\n",
      "Saving MedleyDB_V2_resized/BarefootSisters_RedJetta/BarefootSisters_RedJetta_Vocal.wav\n",
      "Saving MedleyDB_V2_resized/CassandraJenkins_PerfectDay/CassandraJenkins_PerfectDay_Accompaniment.wav\n",
      "Saving MedleyDB_V2_resized/CassandraJenkins_PerfectDay/CassandraJenkins_PerfectDay_MIX.wav\n",
      "Saving MedleyDB_V2_resized/CassandraJenkins_PerfectDay/CassandraJenkins_PerfectDay_Vocal.wav\n",
      "Saving MedleyDB_V2_resized/DahkaBand_SoldierMan/DahkaBand_SoldierMan_Accompaniment.wav\n",
      "Saving MedleyDB_V2_resized/DahkaBand_SoldierMan/DahkaBand_SoldierMan_MIX.wav\n",
      "Saving MedleyDB_V2_resized/DahkaBand_SoldierMan/DahkaBand_SoldierMan_Vocal.wav\n",
      "Saving MedleyDB_V2_resized/DeadMilkmen_PrisonersCinema/DeadMilkmen_PrisonersCinema_Accompaniment.wav\n",
      "Saving MedleyDB_V2_resized/DeadMilkmen_PrisonersCinema/DeadMilkmen_PrisonersCinema_MIX.wav\n",
      "Saving MedleyDB_V2_resized/DeadMilkmen_PrisonersCinema/DeadMilkmen_PrisonersCinema_Vocal.wav\n",
      "Saving MedleyDB_V2_resized/FilthyBird_IdLikeToKnow/FilthyBird_IdLikeToKnow_Accompaniment.wav\n",
      "Saving MedleyDB_V2_resized/FilthyBird_IdLikeToKnow/FilthyBird_IdLikeToKnow_MIX.wav\n",
      "Saving MedleyDB_V2_resized/FilthyBird_IdLikeToKnow/FilthyBird_IdLikeToKnow_Vocal.wav\n",
      "Saving MedleyDB_V2_resized/FruitCathedral_KeepMeRunnin/FruitCathedral_KeepMeRunnin_Accompaniment.wav\n",
      "Saving MedleyDB_V2_resized/FruitCathedral_KeepMeRunnin/FruitCathedral_KeepMeRunnin_MIX.wav\n",
      "Saving MedleyDB_V2_resized/FruitCathedral_KeepMeRunnin/FruitCathedral_KeepMeRunnin_Vocal.wav\n",
      "Saving MedleyDB_V2_resized/LewisAndClarke_TheSilverSea/LewisAndClarke_TheSilverSea_Accompanimnet.wav\n",
      "Saving MedleyDB_V2_resized/LewisAndClarke_TheSilverSea/LewisAndClarke_TheSilverSea_MIX.wav\n",
      "Saving MedleyDB_V2_resized/LewisAndClarke_TheSilverSea/LewisAndClarke_TheSilverSea_Vocal.wav\n",
      "Saving MedleyDB_V2_resized/LittleTybee_TheAlchemist/LittleTybee_TheAlchemist_Accompaniment.wav\n",
      "Saving MedleyDB_V2_resized/LittleTybee_TheAlchemist/LittleTybee_TheAlchemist_MIX.wav\n",
      "Saving MedleyDB_V2_resized/LittleTybee_TheAlchemist/LittleTybee_TheAlchemist_Vocal.wav\n",
      "Saving MedleyDB_V2_resized/LizNelson_Rainfall/LizNelson_Rainfall_Accompaniment.wav\n",
      "Saving MedleyDB_V2_resized/LizNelson_Rainfall/LizNelson_Rainfall_MIX.wav\n"
     ]
    },
    {
     "ename": "KeyboardInterrupt",
     "evalue": "",
     "output_type": "error",
     "traceback": [
      "\u001b[1;31m---------------------------------------------------------------------------\u001b[0m",
      "\u001b[1;31mKeyboardInterrupt\u001b[0m                         Traceback (most recent call last)",
      "\u001b[1;32m<ipython-input-31-b2d6dd96529d>\u001b[0m in \u001b[0;36m<module>\u001b[1;34m\u001b[0m\n\u001b[0;32m     40\u001b[0m                 \u001b[0mdownsample\u001b[0m\u001b[1;33m(\u001b[0m\u001b[1;34mf'MedleyDB_V2/{dirs[i]}/{files[0]}'\u001b[0m\u001b[1;33m,\u001b[0m \u001b[0mtarget_dir\u001b[0m \u001b[1;33m+\u001b[0m \u001b[0mfiles\u001b[0m\u001b[1;33m[\u001b[0m\u001b[1;36m0\u001b[0m\u001b[1;33m]\u001b[0m\u001b[1;33m)\u001b[0m\u001b[1;33m\u001b[0m\u001b[1;33m\u001b[0m\u001b[0m\n\u001b[0;32m     41\u001b[0m                 \u001b[0mdownsample\u001b[0m\u001b[1;33m(\u001b[0m\u001b[1;34mf'MedleyDB_V2/{dirs[i]}/{files[1]}'\u001b[0m\u001b[1;33m,\u001b[0m \u001b[0mtarget_dir\u001b[0m \u001b[1;33m+\u001b[0m \u001b[0mfiles\u001b[0m\u001b[1;33m[\u001b[0m\u001b[1;36m1\u001b[0m\u001b[1;33m]\u001b[0m\u001b[1;33m)\u001b[0m\u001b[1;33m\u001b[0m\u001b[1;33m\u001b[0m\u001b[0m\n\u001b[1;32m---> 42\u001b[1;33m                 \u001b[0mdownsample\u001b[0m\u001b[1;33m(\u001b[0m\u001b[1;34mf'MedleyDB_V2/{dirs[i]}/{files[2]}'\u001b[0m\u001b[1;33m,\u001b[0m \u001b[0mtarget_dir\u001b[0m \u001b[1;33m+\u001b[0m \u001b[0mfiles\u001b[0m\u001b[1;33m[\u001b[0m\u001b[1;36m2\u001b[0m\u001b[1;33m]\u001b[0m\u001b[1;33m)\u001b[0m\u001b[1;33m\u001b[0m\u001b[1;33m\u001b[0m\u001b[0m\n\u001b[0m\u001b[0;32m     43\u001b[0m             \u001b[1;32melse\u001b[0m\u001b[1;33m:\u001b[0m\u001b[1;33m\u001b[0m\u001b[1;33m\u001b[0m\u001b[0m\n\u001b[0;32m     44\u001b[0m                 \u001b[0mdownsample\u001b[0m\u001b[1;33m(\u001b[0m\u001b[1;34mf'MedleyDB_V2/{dirs[i]}/{files[0]}'\u001b[0m\u001b[1;33m,\u001b[0m \u001b[0mtarget_dir\u001b[0m \u001b[1;33m+\u001b[0m \u001b[0mfiles\u001b[0m\u001b[1;33m[\u001b[0m\u001b[1;36m0\u001b[0m\u001b[1;33m]\u001b[0m\u001b[1;33m)\u001b[0m\u001b[1;33m\u001b[0m\u001b[1;33m\u001b[0m\u001b[0m\n",
      "\u001b[1;32m<ipython-input-26-2252630751ff>\u001b[0m in \u001b[0;36mdownsample\u001b[1;34m(input_path, output_path)\u001b[0m\n\u001b[0;32m      2\u001b[0m \u001b[1;33m\u001b[0m\u001b[0m\n\u001b[0;32m      3\u001b[0m \u001b[1;32mdef\u001b[0m \u001b[0mdownsample\u001b[0m\u001b[1;33m(\u001b[0m\u001b[0minput_path\u001b[0m\u001b[1;33m,\u001b[0m \u001b[0moutput_path\u001b[0m\u001b[1;33m)\u001b[0m\u001b[1;33m:\u001b[0m\u001b[1;33m\u001b[0m\u001b[1;33m\u001b[0m\u001b[0m\n\u001b[1;32m----> 4\u001b[1;33m     \u001b[0mwav\u001b[0m\u001b[1;33m,\u001b[0m \u001b[0m_\u001b[0m \u001b[1;33m=\u001b[0m \u001b[0mlibrosa\u001b[0m\u001b[1;33m.\u001b[0m\u001b[0mload\u001b[0m\u001b[1;33m(\u001b[0m\u001b[0minput_path\u001b[0m\u001b[1;33m,\u001b[0m \u001b[0msr\u001b[0m\u001b[1;33m=\u001b[0m\u001b[0mSAMPLE_RATE\u001b[0m\u001b[1;33m)\u001b[0m\u001b[1;33m\u001b[0m\u001b[1;33m\u001b[0m\u001b[0m\n\u001b[0m\u001b[0;32m      5\u001b[0m     \u001b[0msf\u001b[0m\u001b[1;33m.\u001b[0m\u001b[0mwrite\u001b[0m\u001b[1;33m(\u001b[0m\u001b[0moutput_path\u001b[0m\u001b[1;33m,\u001b[0m \u001b[0mwav\u001b[0m\u001b[1;33m,\u001b[0m \u001b[0mSAMPLE_RATE\u001b[0m\u001b[1;33m)\u001b[0m\u001b[1;33m\u001b[0m\u001b[1;33m\u001b[0m\u001b[0m\n\u001b[0;32m      6\u001b[0m \u001b[1;31m#     librosa.output.write_wav(output_path, wav, SAMPLE_RATE, norm=True)\u001b[0m\u001b[1;33m\u001b[0m\u001b[1;33m\u001b[0m\u001b[1;33m\u001b[0m\u001b[0m\n",
      "\u001b[1;32mc:\\users\\zhz19\\appdata\\local\\programs\\python\\python38-32\\lib\\site-packages\\librosa\\core\\audio.py\u001b[0m in \u001b[0;36mload\u001b[1;34m(path, sr, mono, offset, duration, dtype, res_type)\u001b[0m\n\u001b[0;32m    170\u001b[0m \u001b[1;33m\u001b[0m\u001b[0m\n\u001b[0;32m    171\u001b[0m     \u001b[1;32mif\u001b[0m \u001b[0msr\u001b[0m \u001b[1;32mis\u001b[0m \u001b[1;32mnot\u001b[0m \u001b[1;32mNone\u001b[0m\u001b[1;33m:\u001b[0m\u001b[1;33m\u001b[0m\u001b[1;33m\u001b[0m\u001b[0m\n\u001b[1;32m--> 172\u001b[1;33m         \u001b[0my\u001b[0m \u001b[1;33m=\u001b[0m \u001b[0mresample\u001b[0m\u001b[1;33m(\u001b[0m\u001b[0my\u001b[0m\u001b[1;33m,\u001b[0m \u001b[0msr_native\u001b[0m\u001b[1;33m,\u001b[0m \u001b[0msr\u001b[0m\u001b[1;33m,\u001b[0m \u001b[0mres_type\u001b[0m\u001b[1;33m=\u001b[0m\u001b[0mres_type\u001b[0m\u001b[1;33m)\u001b[0m\u001b[1;33m\u001b[0m\u001b[1;33m\u001b[0m\u001b[0m\n\u001b[0m\u001b[0;32m    173\u001b[0m \u001b[1;33m\u001b[0m\u001b[0m\n\u001b[0;32m    174\u001b[0m     \u001b[1;32melse\u001b[0m\u001b[1;33m:\u001b[0m\u001b[1;33m\u001b[0m\u001b[1;33m\u001b[0m\u001b[0m\n",
      "\u001b[1;32mc:\\users\\zhz19\\appdata\\local\\programs\\python\\python38-32\\lib\\site-packages\\librosa\\core\\audio.py\u001b[0m in \u001b[0;36mresample\u001b[1;34m(y, orig_sr, target_sr, res_type, fix, scale, **kwargs)\u001b[0m\n\u001b[0;32m    582\u001b[0m         \u001b[0my_hat\u001b[0m \u001b[1;33m=\u001b[0m \u001b[0msamplerate\u001b[0m\u001b[1;33m.\u001b[0m\u001b[0mresample\u001b[0m\u001b[1;33m(\u001b[0m\u001b[0my\u001b[0m\u001b[1;33m.\u001b[0m\u001b[0mT\u001b[0m\u001b[1;33m,\u001b[0m \u001b[0mratio\u001b[0m\u001b[1;33m,\u001b[0m \u001b[0mconverter_type\u001b[0m\u001b[1;33m=\u001b[0m\u001b[0mres_type\u001b[0m\u001b[1;33m)\u001b[0m\u001b[1;33m.\u001b[0m\u001b[0mT\u001b[0m\u001b[1;33m\u001b[0m\u001b[1;33m\u001b[0m\u001b[0m\n\u001b[0;32m    583\u001b[0m     \u001b[1;32melse\u001b[0m\u001b[1;33m:\u001b[0m\u001b[1;33m\u001b[0m\u001b[1;33m\u001b[0m\u001b[0m\n\u001b[1;32m--> 584\u001b[1;33m         \u001b[0my_hat\u001b[0m \u001b[1;33m=\u001b[0m \u001b[0mresampy\u001b[0m\u001b[1;33m.\u001b[0m\u001b[0mresample\u001b[0m\u001b[1;33m(\u001b[0m\u001b[0my\u001b[0m\u001b[1;33m,\u001b[0m \u001b[0morig_sr\u001b[0m\u001b[1;33m,\u001b[0m \u001b[0mtarget_sr\u001b[0m\u001b[1;33m,\u001b[0m \u001b[0mfilter\u001b[0m\u001b[1;33m=\u001b[0m\u001b[0mres_type\u001b[0m\u001b[1;33m,\u001b[0m \u001b[0maxis\u001b[0m\u001b[1;33m=\u001b[0m\u001b[1;33m-\u001b[0m\u001b[1;36m1\u001b[0m\u001b[1;33m)\u001b[0m\u001b[1;33m\u001b[0m\u001b[1;33m\u001b[0m\u001b[0m\n\u001b[0m\u001b[0;32m    585\u001b[0m \u001b[1;33m\u001b[0m\u001b[0m\n\u001b[0;32m    586\u001b[0m     \u001b[1;32mif\u001b[0m \u001b[0mfix\u001b[0m\u001b[1;33m:\u001b[0m\u001b[1;33m\u001b[0m\u001b[1;33m\u001b[0m\u001b[0m\n",
      "\u001b[1;32mc:\\users\\zhz19\\appdata\\local\\programs\\python\\python38-32\\lib\\site-packages\\resampy\\core.py\u001b[0m in \u001b[0;36mresample\u001b[1;34m(x, sr_orig, sr_new, axis, filter, **kwargs)\u001b[0m\n\u001b[0;32m    118\u001b[0m     \u001b[0mx_2d\u001b[0m \u001b[1;33m=\u001b[0m \u001b[0mx\u001b[0m\u001b[1;33m.\u001b[0m\u001b[0mswapaxes\u001b[0m\u001b[1;33m(\u001b[0m\u001b[1;36m0\u001b[0m\u001b[1;33m,\u001b[0m \u001b[0maxis\u001b[0m\u001b[1;33m)\u001b[0m\u001b[1;33m.\u001b[0m\u001b[0mreshape\u001b[0m\u001b[1;33m(\u001b[0m\u001b[1;33m(\u001b[0m\u001b[0mx\u001b[0m\u001b[1;33m.\u001b[0m\u001b[0mshape\u001b[0m\u001b[1;33m[\u001b[0m\u001b[0maxis\u001b[0m\u001b[1;33m]\u001b[0m\u001b[1;33m,\u001b[0m \u001b[1;33m-\u001b[0m\u001b[1;36m1\u001b[0m\u001b[1;33m)\u001b[0m\u001b[1;33m)\u001b[0m\u001b[1;33m\u001b[0m\u001b[1;33m\u001b[0m\u001b[0m\n\u001b[0;32m    119\u001b[0m     \u001b[0my_2d\u001b[0m \u001b[1;33m=\u001b[0m \u001b[0my\u001b[0m\u001b[1;33m.\u001b[0m\u001b[0mswapaxes\u001b[0m\u001b[1;33m(\u001b[0m\u001b[1;36m0\u001b[0m\u001b[1;33m,\u001b[0m \u001b[0maxis\u001b[0m\u001b[1;33m)\u001b[0m\u001b[1;33m.\u001b[0m\u001b[0mreshape\u001b[0m\u001b[1;33m(\u001b[0m\u001b[1;33m(\u001b[0m\u001b[0my\u001b[0m\u001b[1;33m.\u001b[0m\u001b[0mshape\u001b[0m\u001b[1;33m[\u001b[0m\u001b[0maxis\u001b[0m\u001b[1;33m]\u001b[0m\u001b[1;33m,\u001b[0m \u001b[1;33m-\u001b[0m\u001b[1;36m1\u001b[0m\u001b[1;33m)\u001b[0m\u001b[1;33m)\u001b[0m\u001b[1;33m\u001b[0m\u001b[1;33m\u001b[0m\u001b[0m\n\u001b[1;32m--> 120\u001b[1;33m     \u001b[0mresample_f\u001b[0m\u001b[1;33m(\u001b[0m\u001b[0mx_2d\u001b[0m\u001b[1;33m,\u001b[0m \u001b[0my_2d\u001b[0m\u001b[1;33m,\u001b[0m \u001b[0msample_ratio\u001b[0m\u001b[1;33m,\u001b[0m \u001b[0minterp_win\u001b[0m\u001b[1;33m,\u001b[0m \u001b[0minterp_delta\u001b[0m\u001b[1;33m,\u001b[0m \u001b[0mprecision\u001b[0m\u001b[1;33m)\u001b[0m\u001b[1;33m\u001b[0m\u001b[1;33m\u001b[0m\u001b[0m\n\u001b[0m\u001b[0;32m    121\u001b[0m \u001b[1;33m\u001b[0m\u001b[0m\n\u001b[0;32m    122\u001b[0m     \u001b[1;32mreturn\u001b[0m \u001b[0my\u001b[0m\u001b[1;33m\u001b[0m\u001b[1;33m\u001b[0m\u001b[0m\n",
      "\u001b[1;31mKeyboardInterrupt\u001b[0m: "
     ]
    }
   ],
   "source": [
    "if __name__ == '__main__':\n",
    "    with ThreadPoolExecutor(max_workers=cpu_count() * 2) as pool:\n",
    "        for i in range(len(dirs)):\n",
    "            files = os.listdir(f'MedleyDB_V2/{dirs[i]}/')\n",
    "            target_dir = 'MedleyDB_V2_resized/{}/'.format(dirs[i])\n",
    "            # check if there are .mp3 files and change to .wav\n",
    "            src = str(\"MedleyDB_V2/\"+dirs[i]+\"/\"+files[1])\n",
    "            dst = str(\"MedleyDB_V2/\"+dirs[i]+\"/\"+dirs[i] + \"_MIX.wav\")\n",
    "            if(\".mp3\" in files [1]):\n",
    "                sound = AudioSegment.from_mp3(src)\n",
    "                sound.export(dst, format=\"wav\")\n",
    "                \n",
    "            os.makedirs(target_dir, exist_ok=True)\n",
    "            if len(files) == 2:\n",
    "                pool.submit(downsample, f'MedleyDB_V2/{dirs[i]}/{files[0]}', target_dir + files[0])\n",
    "                pool.submit(downsample, f'MedleyDB_V2/{dirs[i]}/{files[1]}', target_dir + files[1])\n",
    "            elif len(files) == 3:\n",
    "                pool.submit(downsample, f'MedleyDB_V2/{dirs[i]}/{files[0]}', target_dir + files[0])\n",
    "                pool.submit(downsample, f'MedleyDB_V2/{dirs[i]}/{files[1]}', target_dir + files[1])\n",
    "                pool.submit(downsample, f'MedleyDB_V2/{dirs[i]}/{files[2]}', target_dir + files[2])\n",
    "            else:\n",
    "                pool.submit(downsample, f'MedleyDB_V2/{dirs[i]}/{files[0]}', target_dir + files[0])\n",
    "                pool.submit(downsample, f'MedleyDB_V2/{dirs[i]}/{files[2]}', target_dir + files[2])\n",
    "                pool.submit(downsample, f'MedleyDB_V2/{dirs[i]}/{files[3]}', target_dir + files[3])"
   ]
  },
  {
   "cell_type": "code",
   "execution_count": 23,
   "metadata": {},
   "outputs": [
    {
     "name": "stdout",
     "output_type": "stream",
     "text": [
      "Saving TleilaxEnsemble_Late\n"
     ]
    }
   ],
   "source": [
    "def load_as_mag(file):\n",
    "    wav, _ = librosa.load(file, sr=None)\n",
    "    spectrogram = stft(wav, n_fft=WINDOW_SIZE, hop_length=HOP_LENGTH)\n",
    "    mag, _ = magphase(spectrogram)\n",
    "    return mag.astype(np.float32)\n",
    "\n",
    "def save_to_npz(base, sample):\n",
    "    nps = {}\n",
    "    file = os.listdir(f'{base}/{sample}/')\n",
    "    if len(file) == 2:\n",
    "        acc = load_as_mag(f'{base}/{sample}/{file[0]}')\n",
    "        mix = load_as_mag(f'{base}/{sample}/{file[1]}')\n",
    "    else:\n",
    "        acc = load_as_mag(f'{base}/{sample}/{file[0]}')\n",
    "        mix = load_as_mag(f'{base}/{sample}/{file[1]}')\n",
    "        vocal = load_as_mag(f'{base}/{sample}/{file[2]}')\n",
    "        \n",
    "    mix_max = mix.max()\n",
    "    mix_norm = mix / mix_max\n",
    "    vocal_norm = vocal / mix_max\n",
    "    acc_norm = acc / mix_max\n",
    "    \n",
    "    print(f\"Saving {sample}\")\n",
    "    if len(file) == 2:\n",
    "        np.savez_compressed(f'MedleyDB_Npz/{sample}.npz', mix=mix_norm, acc=acc_norm)\n",
    "    else:\n",
    "        np.savez_compressed(f'MedleyDB_Npz/{sample}.npz', mix=mix_norm, vocal=vocal_norm, acc=acc_norm)\n",
    "        \n",
    "if __name__ == '__main__':\n",
    "    if not os.path.exists('MedleyDB_Npz'):\n",
    "        os.makedirs('MedleyDB_Npz')\n",
    "    dirs = sorted(list(os.walk('MedleyDB_V2_resized'))[0][1])\n",
    "    with ThreadPoolExecutor(max_workers=cpu_count() * 2) as pool:\n",
    "        for i in range(len(dirs)):\n",
    "            pool.submit(save_to_npz, 'MedleyDB_V2_resized', dirs[i])"
   ]
  }
 ],
 "metadata": {
  "kernelspec": {
   "display_name": "Python 3",
   "language": "python",
   "name": "python3"
  },
  "language_info": {
   "codemirror_mode": {
    "name": "ipython",
    "version": 3
   },
   "file_extension": ".py",
   "mimetype": "text/x-python",
   "name": "python",
   "nbconvert_exporter": "python",
   "pygments_lexer": "ipython3",
   "version": "3.8.2"
  }
 },
 "nbformat": 4,
 "nbformat_minor": 2
}