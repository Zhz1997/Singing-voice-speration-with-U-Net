{
 "cells": [
  {
   "cell_type": "code",
   "execution_count": 1,
   "metadata": {},
   "outputs": [],
   "source": [
    "import os\n",
    "import librosa\n",
    "import soundfile as sf\n",
    "from librosa.core import load, stft, istft, magphase\n",
    "from config import *\n",
    "from concurrent.futures import ThreadPoolExecutor   \n",
    "from time import time\n",
    "import asyncio\n",
    "import numpy as np\n",
    "from multiprocessing import cpu_count"
   ]
  },
  {
   "cell_type": "code",
   "execution_count": 6,
   "metadata": {},
   "outputs": [],
   "source": [
    "dirs_dev = list(os.walk('DSD100_extracted/Dev/'))[0][1]\n",
    "dirs_test = list(os.walk('DSD100_extracted/Test/'))[0][1]\n",
    "\n",
    "def downsample(input_path, output_path):\n",
    "    wav, _ = librosa.load(input_path, sr=SAMPLE_RATE)\n",
    "    sf.write(output_path, wav, SAMPLE_RATE)\n",
    "    print(f\"Saving {output_path}\")\n"
   ]
  },
  {
   "cell_type": "code",
   "execution_count": 7,
   "metadata": {},
   "outputs": [
    {
     "name": "stdout",
     "output_type": "stream",
     "text": [
      "Saving DSD100_resized/Test/018 - Hollow Ground - Ill Fate/mixture.wav\n",
      "Saving DSD100_resized/Dev/054 - Actions - South Of The Water/vocals.wav\n",
      "Saving DSD100_resized/Dev/053 - Actions - Devil's Words/accompaniment.wav\n",
      "Saving DSD100_resized/Dev/053 - Actions - Devil's Words/vocals.wav\n",
      "Saving DSD100_resized/Dev/053 - Actions - Devil's Words/mixture.wav\n",
      "Saving DSD100_resized/Dev/052 - ANiMAL - Easy Tiger/accompaniment.wav\n",
      "Saving DSD100_resized/Dev/052 - ANiMAL - Easy Tiger/mixture.wav\n",
      "Saving DSD100_resized/Dev/051 - AM Contra - Heart Peripheral/accompaniment.wav\n"
     ]
    }
   ],
   "source": [
    "if __name__ == '__main__':\n",
    "    with ThreadPoolExecutor(max_workers=cpu_count() * 2) as pool:\n",
    "        for i in range(len(dirs_dev)):\n",
    "            target_dir = 'DSD100_resized/Dev/{}/'.format(dirs_dev[i])\n",
    "            os.makedirs(target_dir, exist_ok=True)                    \n",
    "            pool.submit(downsample, f'DSD100_extracted/Dev/{dirs_dev[i]}/mixture.wav', target_dir + 'mixture.wav')\n",
    "            pool.submit(downsample, f'DSD100_extracted/Dev/{dirs_dev[i]}/vocals.wav', target_dir + 'vocals.wav')\n",
    "            pool.submit(downsample, f'DSD100_extracted/Dev/{dirs_dev[i]}/accompaniment.wav', target_dir + 'accompaniment.wav')\n",
    "        for i in range(len(dirs_test)):\n",
    "            target_dir = 'DSD100_resized/Test/{}/'.format(dirs_test[i])\n",
    "            os.makedirs(target_dir, exist_ok=True)                    \n",
    "            pool.submit(downsample, f'DSD100_extracted/Test/{dirs_test[i]}/mixture.wav', target_dir + 'mixture.wav')\n",
    "            pool.submit(downsample, f'DSD100_extracted/Test/{dirs_test[i]}/vocals.wav', target_dir + 'vocals.wav')\n",
    "            pool.submit(downsample, f'DSD100_extracted/Test/{dirs_test[i]}/accompaniment.wav', target_dir + 'accompaniment.wav')"
   ]
  },
  {
   "cell_type": "code",
   "execution_count": 8,
   "metadata": {},
   "outputs": [
    {
     "name": "stdout",
     "output_type": "stream",
     "text": [
      "Saving 053 - Actions - Devil's Words\n"
     ]
    }
   ],
   "source": [
    "def load_as_mag(file):\n",
    "    wav, _ = librosa.load(file, sr=None)\n",
    "    spectrogram = stft(wav, n_fft=WINDOW_SIZE, hop_length=HOP_LENGTH)\n",
    "    mag, _ = magphase(spectrogram)\n",
    "    return mag.astype(np.float32)\n",
    "\n",
    "def save_to_npz(base, sub, sample):\n",
    "    nps = {}\n",
    "    mix = load_as_mag(f'{base}/{sample}/mixture.wav')\n",
    "    vocal = load_as_mag(f'{base}/{sample}/vocals.wav')\n",
    "    acc = load_as_mag(f'{base}/{sample}/accompaniment.wav')\n",
    "        \n",
    "    mix_max = mix.max()\n",
    "    mix_norm = mix / mix_max\n",
    "    vocal_norm = vocal / mix_max\n",
    "    acc_norm = acc / mix_max\n",
    "    \n",
    "    if not os.path.exists(f'DSD100_Npz/{sub}'):\n",
    "        os.makedirs(f'DSD100_Npz/{sub}')\n",
    "    \n",
    "    print(f\"Saving {sample}\")\n",
    "    np.savez_compressed(f'DSD100_Npz/{sub}/{sample}.npz', mix=mix_norm, vocal=vocal_norm, acc=acc_norm)\n",
    "    \n",
    "if __name__ == '__main__':\n",
    "    if not os.path.exists('DSD100_Npz'):\n",
    "        os.makedirs('DSD100_Npz')\n",
    "    dirs_dev = list(os.walk('DSD100_extracted/Dev/'))[0][1]\n",
    "    dirs_test = list(os.walk('DSD100_extracted/Test/'))[0][1]\n",
    "    with ThreadPoolExecutor(max_workers=cpu_count() * 2) as pool:\n",
    "        for i in range(len(dirs_dev)):\n",
    "            pool.submit(save_to_npz, 'DSD100_resized/Dev', 'Dev', dirs_dev[i])\n",
    "        for i in range(len(dirs_test)):\n",
    "            pool.submit(save_to_npz, 'DSD100_resized/Test', 'Test', dirs_test[i])"
   ]
  },
  {
   "cell_type": "code",
   "execution_count": null,
   "metadata": {},
   "outputs": [],
   "source": []
  }
 ],
 "metadata": {
  "kernelspec": {
   "display_name": "Python 3",
   "language": "python",
   "name": "python3"
  },
  "language_info": {
   "codemirror_mode": {
    "name": "ipython",
    "version": 3
   },
   "file_extension": ".py",
   "mimetype": "text/x-python",
   "name": "python",
   "nbconvert_exporter": "python",
   "pygments_lexer": "ipython3",
   "version": "3.8.2-final"
  }
 },
 "nbformat": 4,
 "nbformat_minor": 2
}