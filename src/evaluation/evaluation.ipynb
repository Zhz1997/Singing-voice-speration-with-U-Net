{
 "cells": [
  {
   "cell_type": "code",
   "execution_count": 1,
   "metadata": {},
   "outputs": [],
   "source": [
    "import mir_eval as me\n",
    "import os\n",
    "import numpy as np\n",
    "import soundfile as sf\n",
    "import sounddevice as sd\n",
    "from sklearn.model_selection import KFold"
   ]
  },
  {
   "cell_type": "markdown",
   "metadata": {},
   "source": [
    "## 1 Load data"
   ]
  },
  {
   "cell_type": "code",
   "execution_count": 72,
   "metadata": {},
   "outputs": [],
   "source": [
    "ref_src_mixes = []\n",
    "ref_src_vocals = []\n",
    "est_src_vocals = []\n",
    "ref_src_acc = []\n",
    "est_src_acc = []\n",
    "\n",
    "for filename in os.listdir('../../wav_files/'):\n",
    "    if 'mix' in filename:\n",
    "        f, _ = sf.read('../../wav_files/' + filename)\n",
    "        ref_src_mixes.append(f)\n",
    "    elif 'vocal_sample' in filename:\n",
    "        f, _ = sf.read('../../wav_files/' + filename)\n",
    "        est_src_vocals.append(f)\n",
    "    elif 'vocals' in filename:\n",
    "        f, _ = sf.read('../../wav_files/' + filename)\n",
    "        ref_src_vocals.append(f)\n"
   ]
  },
  {
   "cell_type": "code",
   "execution_count": 73,
   "metadata": {},
   "outputs": [],
   "source": [
    "for filename in os.listdir('../../wav_files/predicted_acc'):\n",
    "    f, _ = sf.read('../../wav_files/predicted_acc/' + filename)\n",
    "    est_src_acc.append(f)\n",
    "    \n",
    "for filename in os.listdir('../../wav_files/truth_acc'):\n",
    "    f, _ = sf.read('../../wav_files/truth_acc/' + filename)\n",
    "    ref_src_acc.append(f)"
   ]
  },
  {
   "cell_type": "code",
   "execution_count": 80,
   "metadata": {},
   "outputs": [],
   "source": [
    "ref_src_mixes = np.array(ref_src_mixes)\n",
    "ref_src_vocals = np.array(ref_src_vocals)\n",
    "est_src_vocals = np.array(est_src_vocals)\n",
    "ref_src_acc = np.array(ref_src_acc)\n",
    "est_src_acc = np.array(est_src_acc)"
   ]
  },
  {
   "cell_type": "markdown",
   "metadata": {},
   "source": [
    "## 2 Metrics\n",
    "\n",
    "https://craffel.github.io/mir_eval/#module-mir_eval.separation"
   ]
  },
  {
   "cell_type": "markdown",
   "metadata": {},
   "source": [
    "### 2.1 Evaluate\n",
    "Computes ```bss_eval_sources``` (for fewer than 3 dimensions) and ```bss_eval_images```.\n",
    "\n",
    "``` python\n",
    "mir_eval.separation.evaluate(reference_sources, estimated_sources, **kwargs)\n",
    "```\n",
    "\n",
    "#### Returns\n",
    "\n",
    "\t\n",
    "- **scores:** ```dict```, dictionary of scores, where the key is the metric name (str) and the value is the (float) score achieved."
   ]
  },
  {
   "cell_type": "markdown",
   "metadata": {},
   "source": [
    "### 2.2 Blind Source Separation (BSS)\n",
    "``` python\n",
    "mir_eval.separation.bss_eval_sources(reference_sources, estimated_sources, compute_permutation=True)\n",
    "```\n",
    "\n",
    "#### Use\n",
    "\n",
    "From \"WAVE-U-NET: A MULTI-SCALE NEURAL NETWORK FOR END-TO-END AUDIO SOURCE SEPARATION\"\n",
    "\n",
    "_Since the collection of segment-wise vocal SDR values across the dataset is not normally distributed (compare Fig- ure 3 for vocals), the mean and standard deviation are not sufficient to adequately summarise it. As a workaround, **we take the median over segments**, as it is robust against outliers and intuitively describes the minimum performance that is achieved 50% of the time. To describe the spread of the distribution, we use the median absolute deviation (MAD) as a rank-based equivalent to the standard deviation (SD). It is defined as the median of the absolute deviations from the overall median and is easily interpretable, since a value of x means that 50% of values have an absolute difference from the median that is lower than x._\n",
    "\n",
    "#### Returns\n",
    "\n",
    "\n",
    "- **sdr:** ```np.ndarray, shape=(nsrc,)```, vector of Signal to Distortion Ratios (SDR)\n",
    "\n",
    "\n",
    "- **sir:** ```np.ndarray, shape=(nsrc,)```, vector of Source to Interference Ratios (SIR)\n",
    "\n",
    "\n",
    "- **sar:** ```np.ndarray, shape=(nsrc,)```, vector of Sources to Artifacts Ratios (SAR)\n",
    "\n",
    "\n",
    "- perm: not used"
   ]
  },
  {
   "cell_type": "markdown",
   "metadata": {},
   "source": [
    "#### Normalized SDR (NSDR)\n",
    "\n",
    "$NSDR(S_e, S_r, S_m) = SDR(S_e, S_r) - SDR(S_m, S_r)$\n",
    "\n",
    "where $S_e$ is the estimated isolated signal, $S_r$ is the reference isolated signal, and $S_m$ is the mixed signal."
   ]
  },
  {
   "cell_type": "code",
   "execution_count": 202,
   "metadata": {},
   "outputs": [],
   "source": [
    "def calculate_nsdr(reference_sources, estimated_sources, mix_sources):\n",
    "    sdr1, _, _, _ = me.separation.bss_eval_sources(reference_sources, \n",
    "                                                   estimated_sources, \n",
    "                                                   compute_permutation=False)\n",
    "    sdr2, _, _, _ = me.separation.bss_eval_sources(reference_sources, \n",
    "                                                   mix_sources, \n",
    "                                                   compute_permutation=False)\n",
    "    nsdr = sdr1 - sdr2\n",
    "    return nsdr"
   ]
  },
  {
   "cell_type": "markdown",
   "metadata": {},
   "source": [
    "## 3 Evaluate"
   ]
  },
  {
   "cell_type": "markdown",
   "metadata": {},
   "source": [
    "### 3.1 Accompaniment"
   ]
  },
  {
   "cell_type": "markdown",
   "metadata": {},
   "source": [
    "#### 3.1.1 Evaluate"
   ]
  },
  {
   "cell_type": "code",
   "execution_count": 121,
   "metadata": {},
   "outputs": [],
   "source": [
    "def evaluate(ref_src, est_src, mix_src):\n",
    "    sdrs = []\n",
    "    sirs = []\n",
    "    sars = []\n",
    "    nsdrs = []\n",
    "    for ref, est, mix in zip(ref_src, est_src, mix_src):\n",
    "        _, sir, sar, _ = me.separation.bss_eval_sources(ref, est, compute_permutation=False)\n",
    "        nsdr = calculate_nsdr(ref, est, mix)\n",
    "\n",
    "        sirs.extend(sir)\n",
    "        sars.extend(sar)\n",
    "        nsdrs.append(nsdr)\n",
    "        \n",
    "    return sirs, sars, nsdrs"
   ]
  },
  {
   "cell_type": "code",
   "execution_count": 131,
   "metadata": {},
   "outputs": [],
   "source": [
    "def evaluate2(ref_src, est_src, mix_src):\n",
    "    _, sir, sar, _ = me.separation.bss_eval_sources(ref_src, est_src, compute_permutation=False)\n",
    "    nsdr = calculate_nsdr(ref_src, est_src, mix_src)\n",
    "\n",
    "    return sir, sar, nsdr"
   ]
  },
  {
   "cell_type": "code",
   "execution_count": 182,
   "metadata": {},
   "outputs": [],
   "source": [
    "k = 20"
   ]
  },
  {
   "cell_type": "code",
   "execution_count": 183,
   "metadata": {},
   "outputs": [],
   "source": [
    "sirs_acc, sars_acc, nsdrs_acc = evaluate2(ref_src_acc[0:k], \n",
    "                                         est_src_acc[0:k], \n",
    "                                         ref_src_mixes[0:k])"
   ]
  },
  {
   "cell_type": "code",
   "execution_count": 184,
   "metadata": {},
   "outputs": [
    {
     "data": {
      "text/plain": [
       "{'NSDR Instrumental': 34.38182717694601,\n",
       " 'SIR Instrumental': 20.852198309339883,\n",
       " 'SAR Instrumental': 10.986279752735456}"
      ]
     },
     "execution_count": 184,
     "metadata": {},
     "output_type": "execute_result"
    }
   ],
   "source": [
    "means = {\n",
    "    'NSDR Instrumental': np.mean(nsdrs_acc),\n",
    "    'SIR Instrumental': np.mean(sirs_acc),\n",
    "    'SAR Instrumental': np.mean(sars_acc)\n",
    "}\n",
    "means"
   ]
  },
  {
   "cell_type": "markdown",
   "metadata": {},
   "source": [
    "#### 3.1.2 MIREX"
   ]
  },
  {
   "cell_type": "code",
   "execution_count": null,
   "metadata": {},
   "outputs": [],
   "source": [
    "mirex_results = {\n",
    "    'NSDR Instrumental': 7.945,\n",
    "    'SIR Instrumental': 21.975,\n",
    "    'SAR Instrumental': 15.462\n",
    "    }"
   ]
  },
  {
   "cell_type": "markdown",
   "metadata": {},
   "source": [
    "### 3.2 Vocals"
   ]
  },
  {
   "cell_type": "markdown",
   "metadata": {},
   "source": [
    "#### 3.2.1 Remove tracks that don't contain vocals"
   ]
  },
  {
   "cell_type": "code",
   "execution_count": 81,
   "metadata": {},
   "outputs": [],
   "source": [
    "ref_src_mixes_clean = []\n",
    "ref_src_vocals_clean = []\n",
    "est_src_vocals_clean = []\n",
    "\n",
    "for i in range(est_src_vocals.shape[0]):\n",
    "    if np.count_nonzero(ref_src_vocals[i]):\n",
    "        ref_src_mixes_clean.append(ref_src_mixes[i])\n",
    "        ref_src_vocals_clean.append(ref_src_vocals[i])\n",
    "        est_src_vocals_clean.append(est_src_vocals[i])\n",
    "        \n",
    "ref_src_mixes_clean = np.array(ref_src_mixes_clean)\n",
    "ref_src_vocals_clean = np.array(ref_src_vocals_clean)\n",
    "est_src_vocals_clean = np.array(est_src_vocals_clean)"
   ]
  },
  {
   "cell_type": "markdown",
   "metadata": {},
   "source": [
    "#### 3.2.2 Evaluate"
   ]
  },
  {
   "cell_type": "code",
   "execution_count": 213,
   "metadata": {},
   "outputs": [],
   "source": [
    "k = 25"
   ]
  },
  {
   "cell_type": "code",
   "execution_count": 214,
   "metadata": {},
   "outputs": [],
   "source": [
    "sirs_voc, sars_voc, nsdrs_voc = evaluate2(ref_src_vocals_clean[0:k], \n",
    "                                         est_src_vocals_clean[0:k], \n",
    "                                         ref_src_mixes[0:k])"
   ]
  },
  {
   "cell_type": "code",
   "execution_count": 215,
   "metadata": {},
   "outputs": [
    {
     "data": {
      "text/plain": [
       "{'NSDR Vocal': -0.635265668437744,\n",
       " 'SIR Vocal': -15.354027118129455,\n",
       " 'SAR Vocal': -4.8972753524836}"
      ]
     },
     "execution_count": 215,
     "metadata": {},
     "output_type": "execute_result"
    }
   ],
   "source": [
    "means = {\n",
    "    'NSDR Vocal': np.mean(nsdrs_voc),\n",
    "    'SIR Vocal': np.mean(sirs_voc),\n",
    "    'SAR Vocal': np.mean(sars_voc)\n",
    "}\n",
    "means"
   ]
  },
  {
   "cell_type": "markdown",
   "metadata": {},
   "source": [
    "#### 3.2.3 MIREX"
   ]
  },
  {
   "cell_type": "code",
   "execution_count": null,
   "metadata": {},
   "outputs": [],
   "source": [
    "mirex_results = {\n",
    "    'NSDR Vocal': 8.681,\n",
    "    'SIR Vocal': 15.308,\n",
    "    'SAR Vocal': 11.301\n",
    "}"
   ]
  },
  {
   "cell_type": "markdown",
   "metadata": {},
   "source": [
    "### 3.3 Results"
   ]
  },
  {
   "cell_type": "code",
   "execution_count": 223,
   "metadata": {},
   "outputs": [
    {
     "data": {
      "text/plain": [
       "{'NSDR Vocal': -0.635265668437744,\n",
       " 'NSDR Instrumental': 34.38182717694601,\n",
       " 'SIR Vocal': -15.354027118129455,\n",
       " 'SIR Instrumental': 20.99578091076507,\n",
       " 'SAR Vocal': -4.8972753524836,\n",
       " 'SAR Instrumental': 11.372903548211967}"
      ]
     },
     "execution_count": 223,
     "metadata": {},
     "output_type": "execute_result"
    }
   ],
   "source": [
    "means = {\n",
    "    'NSDR Vocal': np.mean(nsdrs_voc),\n",
    "    'NSDR Instrumental': np.mean(nsdrs_acc),\n",
    "    'SIR Vocal': np.mean(sirs_voc),\n",
    "    'SIR Instrumental': np.mean(sirs_acc),\n",
    "    'SAR Vocal': np.mean(sars_voc),\n",
    "    'SAR Instrumental': np.mean(sars_acc)\n",
    "}\n",
    "means"
   ]
  },
  {
   "cell_type": "markdown",
   "metadata": {},
   "source": [
    "## 4 Comparison with MIREX results"
   ]
  },
  {
   "cell_type": "code",
   "execution_count": null,
   "metadata": {},
   "outputs": [],
   "source": [
    "mirex_results = {\n",
    "    'NSDR Vocal': 8.681,\n",
    "    'NSDR Instrumental': 7.945,\n",
    "    'SIR Vocal': 15.308,\n",
    "    'SIR Instrumental': 21.975,\n",
    "    'SAR Vocal': 11.301,\n",
    "    'SAR Instrumental': 15.462\n",
    "    }"
   ]
  },
  {
   "cell_type": "markdown",
   "metadata": {},
   "source": [
    "## 5 Compare with self-evaluation\n",
    "Run a file containing the original vocals/accompaniment against itself."
   ]
  },
  {
   "cell_type": "code",
   "execution_count": 237,
   "metadata": {},
   "outputs": [],
   "source": [
    "file1, _ = sf.read(\"./mir_eval test/bass.wav\")\n",
    "file2, _ = sf.read(\"./mir_eval test/drums.wav\")\n",
    "file3, _ = sf.read(\"./mir_eval test/vocals.wav\")\n",
    "file4, _ = sf.read(\"./mir_eval test/other.wav\")\n",
    "file0 = file1 + file2 + file3 + file4"
   ]
  },
  {
   "cell_type": "code",
   "execution_count": 242,
   "metadata": {},
   "outputs": [],
   "source": [
    "vocal = np.array([file3.T[0], file3.T[0]])\n",
    "mix = np.array([file0.T[0], file0.T[0]])"
   ]
  },
  {
   "cell_type": "code",
   "execution_count": 243,
   "metadata": {},
   "outputs": [],
   "source": [
    "sirs_test, sars_test, nsdrs_test = evaluate2(vocal, \n",
    "                                             vocal, \n",
    "                                             mix)"
   ]
  },
  {
   "cell_type": "code",
   "execution_count": 244,
   "metadata": {},
   "outputs": [
    {
     "data": {
      "text/plain": [
       "array([247.76600046, 247.76600046])"
      ]
     },
     "execution_count": 244,
     "metadata": {},
     "output_type": "execute_result"
    }
   ],
   "source": [
    "sirs_test"
   ]
  },
  {
   "cell_type": "code",
   "execution_count": 245,
   "metadata": {},
   "outputs": [
    {
     "data": {
      "text/plain": [
       "array([247.78332681, 247.78332681])"
      ]
     },
     "execution_count": 245,
     "metadata": {},
     "output_type": "execute_result"
    }
   ],
   "source": [
    "sars_test"
   ]
  },
  {
   "cell_type": "code",
   "execution_count": 246,
   "metadata": {},
   "outputs": [
    {
     "data": {
      "text/plain": [
       "array([268.42704394, 268.42704394])"
      ]
     },
     "execution_count": 246,
     "metadata": {},
     "output_type": "execute_result"
    }
   ],
   "source": [
    "nsdrs_test"
   ]
  }
 ],
 "metadata": {
  "kernelspec": {
   "display_name": "Python 3",
   "language": "python",
   "name": "python3"
  },
  "language_info": {
   "codemirror_mode": {
    "name": "ipython",
    "version": 3
   },
   "file_extension": ".py",
   "mimetype": "text/x-python",
   "name": "python",
   "nbconvert_exporter": "python",
   "pygments_lexer": "ipython3",
   "version": "3.8.5"
  }
 },
 "nbformat": 4,
 "nbformat_minor": 4
}
