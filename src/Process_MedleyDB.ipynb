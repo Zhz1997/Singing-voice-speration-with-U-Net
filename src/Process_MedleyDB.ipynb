{
 "cells": [
  {
   "cell_type": "code",
   "execution_count": 3,
   "metadata": {},
   "outputs": [],
   "source": [
    "import os\n",
    "import librosa\n",
    "import soundfile as sf\n",
    "from librosa.core import load, stft, istft, magphase\n",
    "from config import *    \n",
    "from concurrent.futures import ThreadPoolExecutor\n",
    "from time import time\n",
    "import asyncio\n",
    "import numpy as np\n",
    "from multiprocessing import cpu_count\n",
    "from pydub import AudioSegment"
   ]
  },
  {
   "cell_type": "code",
   "execution_count": 4,
   "metadata": {},
   "outputs": [],
   "source": [
    "dirs = list(os.walk('MedleyDB_V2/'))[0][1]\n",
    "\n",
    "def downsample(input_path, output_path):\n",
    "    wav, _ = librosa.load(input_path, sr=SAMPLE_RATE)\n",
    "    sf.write(output_path, wav, SAMPLE_RATE)\n",
    "#     librosa.output.write_wav(output_path, wav, SAMPLE_RATE, norm=True)\n",
    "    print(f\"Saving {output_path}\")\n"
   ]
  },
  {
   "cell_type": "code",
   "execution_count": 5,
   "metadata": {},
   "outputs": [
    {
     "output_type": "stream",
     "name": "stdout",
     "text": [
      "Saving MedleyDB_V2_resized/TleilaxEnsemble_Late/TleilaxEnsemble_Late_Accompaniment.wav\n",
      "Saving MedleyDB_V2_resized/TleilaxEnsemble_Late/TleilaxEnsemble_Late_Voice.wav\n",
      "Saving MedleyDB_V2_resized/TleilaxEnsemble_Late/TleilaxEnsemble_Late_MIX.wav\n",
      "Saving MedleyDB_V2_resized/TleilaxEnsemble_MelancholyFlowers/TleilaxEnsemble_MelancholyFlowers_Voice.wav\n",
      "Saving MedleyDB_V2_resized/TleilaxEnsemble_MelancholyFlowers/TleilaxEnsemble_MelancholyFlowers_MIX.wav\n",
      "Saving MedleyDB_V2_resized/FilthyBird_IdLikeToKnow/FilthyBird_IdLikeToKnow_Accompaniment.wav\n",
      "Saving MedleyDB_V2_resized/CassandraJenkins_PerfectDay/CassandraJenkins_PerfectDay_Accompaniment.wav\n",
      "Saving MedleyDB_V2_resized/BarefootSisters_RedJetta/BarefootSisters_RedJetta_Vocal.wav\n",
      "Saving MedleyDB_V2_resized/DahkaBand_SoldierMan/DahkaBand_SoldierMan_Accompaniment.wav\n",
      "Saving MedleyDB_V2_resized/DahkaBand_SoldierMan/DahkaBand_SoldierMan_Vocal.wav\n",
      "Saving MedleyDB_V2_resized/LewisAndClarke_TheSilverSea/LewisAndClarke_TheSilverSea_Accompanimnet.wav\n"
     ]
    }
   ],
   "source": [
    "if __name__ == '__main__':\n",
    "    with ThreadPoolExecutor(max_workers=cpu_count() * 2) as pool:\n",
    "        for i in range(len(dirs)):\n",
    "            files = os.listdir(f'MedleyDB_V2/{dirs[i]}/')\n",
    "            target_dir = 'MedleyDB_V2_resized/{}/'.format(dirs[i])\n",
    "            # check if there are .mp3 files and change to .wav\n",
    "            src = str(\"MedleyDB_V2/\"+dirs[i]+\"/\"+files[1])\n",
    "            dst = str(\"MedleyDB_V2/\"+dirs[i]+\"/\"+dirs[i] + \"_MIX.wav\")\n",
    "            if(\".mp3\" in files [1]):\n",
    "                sound = AudioSegment.from_mp3(src)\n",
    "                sound.export(dst, format=\"wav\")\n",
    "                \n",
    "            os.makedirs(target_dir, exist_ok=True)\n",
    "            if len(files) == 2:\n",
    "                pool.submit(downsample, f'MedleyDB_V2/{dirs[i]}/{files[0]}', target_dir + files[0])\n",
    "                pool.submit(downsample, f'MedleyDB_V2/{dirs[i]}/{files[1]}', target_dir + files[1])\n",
    "            elif len(files) == 3:\n",
    "                pool.submit(downsample, f'MedleyDB_V2/{dirs[i]}/{files[0]}', target_dir + files[0])\n",
    "                pool.submit(downsample, f'MedleyDB_V2/{dirs[i]}/{files[1]}', target_dir + files[1])\n",
    "                pool.submit(downsample, f'MedleyDB_V2/{dirs[i]}/{files[2]}', target_dir + files[2])\n",
    "            else:\n",
    "                pool.submit(downsample, f'MedleyDB_V2/{dirs[i]}/{files[0]}', target_dir + files[0])\n",
    "                pool.submit(downsample, f'MedleyDB_V2/{dirs[i]}/{files[2]}', target_dir + files[2])\n",
    "                pool.submit(downsample, f'MedleyDB_V2/{dirs[i]}/{files[3]}', target_dir + files[3])"
   ]
  },
  {
   "cell_type": "code",
   "execution_count": 6,
   "metadata": {},
   "outputs": [
    {
     "output_type": "stream",
     "name": "stdout",
     "text": [
      "Saving TleilaxEnsemble_Late\n",
      "Saving TleilaxEnsemble_MelancholyFlowers\n",
      "Saving FilthyBird_IdLikeToKnow\n",
      "Saving LittleTybee_TheAlchemist\n",
      "Saving CassandraJenkins_PerfectDay\n",
      "Saving DahkaBand_SoldierMan\n",
      "Saving DeadMilkmen_PrisonersCinema\n",
      "Saving LewisAndClarke_TheSilverSea\n",
      "Saving BarefootSisters_RedJetta\n",
      "Saving FruitCathedral_KeepMeRunnin\n"
     ]
    }
   ],
   "source": [
    "def load_as_mag(file):\n",
    "    wav, _ = librosa.load(file, sr=None)\n",
    "    spectrogram = stft(wav, n_fft=WINDOW_SIZE, hop_length=HOP_LENGTH)\n",
    "    mag, _ = magphase(spectrogram)\n",
    "    return mag.astype(np.float32)\n",
    "\n",
    "def save_to_npz(base, sample):\n",
    "    nps = {}\n",
    "    file = os.listdir(f'{base}/{sample}/')\n",
    "    if len(file) == 2:\n",
    "        acc = load_as_mag(f'{base}/{sample}/{file[0]}')\n",
    "        mix = load_as_mag(f'{base}/{sample}/{file[1]}')\n",
    "    else:\n",
    "        acc = load_as_mag(f'{base}/{sample}/{file[0]}')\n",
    "        mix = load_as_mag(f'{base}/{sample}/{file[1]}')\n",
    "        vocal = load_as_mag(f'{base}/{sample}/{file[2]}')\n",
    "        \n",
    "    mix_max = mix.max()\n",
    "    mix_norm = mix / mix_max\n",
    "    vocal_norm = vocal / mix_max\n",
    "    acc_norm = acc / mix_max\n",
    "    \n",
    "    print(f\"Saving {sample}\")\n",
    "    if len(file) == 2:\n",
    "        np.savez_compressed(f'MedleyDB_Npz/{sample}.npz', mix=mix_norm, acc=acc_norm)\n",
    "    else:\n",
    "        np.savez_compressed(f'MedleyDB_Npz/{sample}.npz', mix=mix_norm, vocal=vocal_norm, acc=acc_norm)\n",
    "        \n",
    "if __name__ == '__main__':\n",
    "    if not os.path.exists('MedleyDB_Npz'):\n",
    "        os.makedirs('MedleyDB_Npz')\n",
    "    dirs = sorted(list(os.walk('MedleyDB_V2_resized'))[0][1])\n",
    "    with ThreadPoolExecutor(max_workers=cpu_count() * 2) as pool:\n",
    "        for i in range(len(dirs)):\n",
    "            pool.submit(save_to_npz, 'MedleyDB_V2_resized', dirs[i])"
   ]
  }
 ],
 "metadata": {
  "kernelspec": {
   "display_name": "Python 3",
   "language": "python",
   "name": "python3"
  },
  "language_info": {
   "codemirror_mode": {
    "name": "ipython",
    "version": 3
   },
   "file_extension": ".py",
   "mimetype": "text/x-python",
   "name": "python",
   "nbconvert_exporter": "python",
   "pygments_lexer": "ipython3",
   "version": "3.8.2-final"
  }
 },
 "nbformat": 4,
 "nbformat_minor": 2
}